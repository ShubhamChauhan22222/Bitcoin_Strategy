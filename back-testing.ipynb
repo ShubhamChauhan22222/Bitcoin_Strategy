{
 "cells": [
  {
   "cell_type": "code",
   "execution_count": 1,
   "id": "9cf9b8c1",
   "metadata": {
    "_cell_guid": "b1076dfc-b9ad-4769-8c92-a6c4dae69d19",
    "_uuid": "8f2839f25d086af736a60e9eeb907d3b93b6e0e5",
    "execution": {
     "iopub.execute_input": "2025-01-28T23:50:55.521163Z",
     "iopub.status.busy": "2025-01-28T23:50:55.520769Z",
     "iopub.status.idle": "2025-01-28T23:50:56.416793Z",
     "shell.execute_reply": "2025-01-28T23:50:56.415892Z"
    },
    "papermill": {
     "duration": 0.904221,
     "end_time": "2025-01-28T23:50:56.418691",
     "exception": false,
     "start_time": "2025-01-28T23:50:55.514470",
     "status": "completed"
    },
    "tags": []
   },
   "outputs": [],
   "source": [
    "import numpy as np # linear algebra\n",
    "import pandas as pd # data processing, CSV file I/O (e.g. pd.read_csv)"
   ]
  },
  {
   "cell_type": "code",
   "execution_count": 2,
   "id": "0c61ce63",
   "metadata": {
    "execution": {
     "iopub.execute_input": "2025-01-28T23:50:56.428942Z",
     "iopub.status.busy": "2025-01-28T23:50:56.428513Z",
     "iopub.status.idle": "2025-01-28T23:50:56.498297Z",
     "shell.execute_reply": "2025-01-28T23:50:56.497206Z"
    },
    "papermill": {
     "duration": 0.076728,
     "end_time": "2025-01-28T23:50:56.500160",
     "exception": false,
     "start_time": "2025-01-28T23:50:56.423432",
     "status": "completed"
    },
    "tags": []
   },
   "outputs": [],
   "source": [
    "data=pd.read_csv(\"/kaggle/input/test-results/test_data (1).csv\")"
   ]
  },
  {
   "cell_type": "code",
   "execution_count": 3,
   "id": "f579c09b",
   "metadata": {
    "execution": {
     "iopub.execute_input": "2025-01-28T23:50:56.510152Z",
     "iopub.status.busy": "2025-01-28T23:50:56.509720Z",
     "iopub.status.idle": "2025-01-28T23:50:56.557369Z",
     "shell.execute_reply": "2025-01-28T23:50:56.556320Z"
    },
    "papermill": {
     "duration": 0.054377,
     "end_time": "2025-01-28T23:50:56.559113",
     "exception": false,
     "start_time": "2025-01-28T23:50:56.504736",
     "status": "completed"
    },
    "tags": []
   },
   "outputs": [
    {
     "data": {
      "text/html": [
       "<div>\n",
       "<style scoped>\n",
       "    .dataframe tbody tr th:only-of-type {\n",
       "        vertical-align: middle;\n",
       "    }\n",
       "\n",
       "    .dataframe tbody tr th {\n",
       "        vertical-align: top;\n",
       "    }\n",
       "\n",
       "    .dataframe thead th {\n",
       "        text-align: right;\n",
       "    }\n",
       "</style>\n",
       "<table border=\"1\" class=\"dataframe\">\n",
       "  <thead>\n",
       "    <tr style=\"text-align: right;\">\n",
       "      <th></th>\n",
       "      <th>Unnamed: 0</th>\n",
       "      <th>datetime</th>\n",
       "      <th>open</th>\n",
       "      <th>high</th>\n",
       "      <th>low</th>\n",
       "      <th>close</th>\n",
       "      <th>volume</th>\n",
       "      <th>RSI_14</th>\n",
       "      <th>MACD_diff</th>\n",
       "      <th>ATR_14</th>\n",
       "      <th>...</th>\n",
       "      <th>Williams_%R_14</th>\n",
       "      <th>Awesome_Oscillator_5_34</th>\n",
       "      <th>PPO_Diff_12_26</th>\n",
       "      <th>PVO_Diff_12_26</th>\n",
       "      <th>Coefficient_of_Variance_30</th>\n",
       "      <th>Ulcer_Index_14</th>\n",
       "      <th>CMF_3_20</th>\n",
       "      <th>Ease_of_Movement</th>\n",
       "      <th>ADX_14</th>\n",
       "      <th>predictions</th>\n",
       "    </tr>\n",
       "  </thead>\n",
       "  <tbody>\n",
       "    <tr>\n",
       "      <th>0</th>\n",
       "      <td>31701.0</td>\n",
       "      <td>2023-08-13 21:00:00</td>\n",
       "      <td>29411.9</td>\n",
       "      <td>29415.0</td>\n",
       "      <td>29351.5</td>\n",
       "      <td>29360.0</td>\n",
       "      <td>4436.755</td>\n",
       "      <td>42.712311</td>\n",
       "      <td>2.157654</td>\n",
       "      <td>33.349406</td>\n",
       "      <td>...</td>\n",
       "      <td>-70.163488</td>\n",
       "      <td>3.474412</td>\n",
       "      <td>0.013686</td>\n",
       "      <td>12.513581</td>\n",
       "      <td>0.092314</td>\n",
       "      <td>0.001857</td>\n",
       "      <td>-1099.049848</td>\n",
       "      <td>-0.546728</td>\n",
       "      <td>19.881411</td>\n",
       "      <td>29396.482725</td>\n",
       "    </tr>\n",
       "    <tr>\n",
       "      <th>1</th>\n",
       "      <td>31702.0</td>\n",
       "      <td>2023-08-13 22:00:00</td>\n",
       "      <td>29360.0</td>\n",
       "      <td>29367.3</td>\n",
       "      <td>29256.6</td>\n",
       "      <td>29307.0</td>\n",
       "      <td>13132.403</td>\n",
       "      <td>34.685640</td>\n",
       "      <td>-3.108060</td>\n",
       "      <td>38.874448</td>\n",
       "      <td>...</td>\n",
       "      <td>-75.581395</td>\n",
       "      <td>-6.966765</td>\n",
       "      <td>0.003490</td>\n",
       "      <td>21.171693</td>\n",
       "      <td>0.103878</td>\n",
       "      <td>0.002112</td>\n",
       "      <td>-2390.926689</td>\n",
       "      <td>-0.601026</td>\n",
       "      <td>21.381868</td>\n",
       "      <td>29285.993535</td>\n",
       "    </tr>\n",
       "    <tr>\n",
       "      <th>2</th>\n",
       "      <td>31703.0</td>\n",
       "      <td>2023-08-13 23:00:00</td>\n",
       "      <td>29307.0</td>\n",
       "      <td>29328.3</td>\n",
       "      <td>29282.3</td>\n",
       "      <td>29293.3</td>\n",
       "      <td>4427.205</td>\n",
       "      <td>32.961326</td>\n",
       "      <td>-7.045012</td>\n",
       "      <td>39.383416</td>\n",
       "      <td>...</td>\n",
       "      <td>-82.218992</td>\n",
       "      <td>-23.388529</td>\n",
       "      <td>-0.004816</td>\n",
       "      <td>20.812606</td>\n",
       "      <td>0.120076</td>\n",
       "      <td>0.002398</td>\n",
       "      <td>-3796.431215</td>\n",
       "      <td>-0.069096</td>\n",
       "      <td>22.775150</td>\n",
       "      <td>29191.288516</td>\n",
       "    </tr>\n",
       "    <tr>\n",
       "      <th>3</th>\n",
       "      <td>31704.0</td>\n",
       "      <td>2023-08-14 00:00:00</td>\n",
       "      <td>29293.3</td>\n",
       "      <td>29319.2</td>\n",
       "      <td>29232.0</td>\n",
       "      <td>29260.8</td>\n",
       "      <td>7929.206</td>\n",
       "      <td>29.246882</td>\n",
       "      <td>-11.126455</td>\n",
       "      <td>42.798887</td>\n",
       "      <td>...</td>\n",
       "      <td>-87.532468</td>\n",
       "      <td>-51.509118</td>\n",
       "      <td>-0.018221</td>\n",
       "      <td>18.265609</td>\n",
       "      <td>0.143096</td>\n",
       "      <td>0.002787</td>\n",
       "      <td>-5340.915366</td>\n",
       "      <td>-0.326620</td>\n",
       "      <td>24.693490</td>\n",
       "      <td>29159.720176</td>\n",
       "    </tr>\n",
       "    <tr>\n",
       "      <th>4</th>\n",
       "      <td>31705.0</td>\n",
       "      <td>2023-08-14 01:00:00</td>\n",
       "      <td>29260.7</td>\n",
       "      <td>29293.0</td>\n",
       "      <td>29187.0</td>\n",
       "      <td>29256.4</td>\n",
       "      <td>11149.943</td>\n",
       "      <td>28.774118</td>\n",
       "      <td>-13.265871</td>\n",
       "      <td>47.313252</td>\n",
       "      <td>...</td>\n",
       "      <td>-74.855072</td>\n",
       "      <td>-82.106471</td>\n",
       "      <td>-0.025941</td>\n",
       "      <td>18.218316</td>\n",
       "      <td>0.163036</td>\n",
       "      <td>0.003122</td>\n",
       "      <td>-4388.783471</td>\n",
       "      <td>-0.338441</td>\n",
       "      <td>26.923584</td>\n",
       "      <td>29128.151836</td>\n",
       "    </tr>\n",
       "    <tr>\n",
       "      <th>...</th>\n",
       "      <td>...</td>\n",
       "      <td>...</td>\n",
       "      <td>...</td>\n",
       "      <td>...</td>\n",
       "      <td>...</td>\n",
       "      <td>...</td>\n",
       "      <td>...</td>\n",
       "      <td>...</td>\n",
       "      <td>...</td>\n",
       "      <td>...</td>\n",
       "      <td>...</td>\n",
       "      <td>...</td>\n",
       "      <td>...</td>\n",
       "      <td>...</td>\n",
       "      <td>...</td>\n",
       "      <td>...</td>\n",
       "      <td>...</td>\n",
       "      <td>...</td>\n",
       "      <td>...</td>\n",
       "      <td>...</td>\n",
       "      <td>...</td>\n",
       "    </tr>\n",
       "    <tr>\n",
       "      <th>3359</th>\n",
       "      <td>35060.0</td>\n",
       "      <td>2023-12-31 20:00:00</td>\n",
       "      <td>42659.9</td>\n",
       "      <td>42724.5</td>\n",
       "      <td>42543.3</td>\n",
       "      <td>42599.1</td>\n",
       "      <td>4730.936</td>\n",
       "      <td>55.250041</td>\n",
       "      <td>6.105397</td>\n",
       "      <td>218.980878</td>\n",
       "      <td>...</td>\n",
       "      <td>-52.837838</td>\n",
       "      <td>238.756765</td>\n",
       "      <td>0.110297</td>\n",
       "      <td>5.447024</td>\n",
       "      <td>0.426422</td>\n",
       "      <td>0.004286</td>\n",
       "      <td>424.407203</td>\n",
       "      <td>-1.892074</td>\n",
       "      <td>18.219811</td>\n",
       "      <td>42639.401289</td>\n",
       "    </tr>\n",
       "    <tr>\n",
       "      <th>3360</th>\n",
       "      <td>35061.0</td>\n",
       "      <td>2023-12-31 21:00:00</td>\n",
       "      <td>42599.2</td>\n",
       "      <td>42717.0</td>\n",
       "      <td>42558.2</td>\n",
       "      <td>42558.9</td>\n",
       "      <td>3794.010</td>\n",
       "      <td>53.452662</td>\n",
       "      <td>-1.967177</td>\n",
       "      <td>214.682244</td>\n",
       "      <td>...</td>\n",
       "      <td>-68.789474</td>\n",
       "      <td>224.570882</td>\n",
       "      <td>0.033048</td>\n",
       "      <td>-13.301315</td>\n",
       "      <td>0.428925</td>\n",
       "      <td>0.004508</td>\n",
       "      <td>-1498.075834</td>\n",
       "      <td>0.154865</td>\n",
       "      <td>17.958618</td>\n",
       "      <td>42544.696270</td>\n",
       "    </tr>\n",
       "    <tr>\n",
       "      <th>3361</th>\n",
       "      <td>35062.0</td>\n",
       "      <td>2023-12-31 22:00:00</td>\n",
       "      <td>42559.0</td>\n",
       "      <td>42629.5</td>\n",
       "      <td>42111.9</td>\n",
       "      <td>42294.8</td>\n",
       "      <td>11952.346</td>\n",
       "      <td>43.451719</td>\n",
       "      <td>-24.605785</td>\n",
       "      <td>236.319226</td>\n",
       "      <td>...</td>\n",
       "      <td>-78.202836</td>\n",
       "      <td>167.812353</td>\n",
       "      <td>-0.053112</td>\n",
       "      <td>-8.804990</td>\n",
       "      <td>0.434054</td>\n",
       "      <td>0.005432</td>\n",
       "      <td>-3715.263365</td>\n",
       "      <td>-11.558186</td>\n",
       "      <td>18.169950</td>\n",
       "      <td>42544.696270</td>\n",
       "    </tr>\n",
       "    <tr>\n",
       "      <th>3362</th>\n",
       "      <td>35063.0</td>\n",
       "      <td>2023-12-31 23:00:00</td>\n",
       "      <td>42294.8</td>\n",
       "      <td>42380.1</td>\n",
       "      <td>42083.1</td>\n",
       "      <td>42314.0</td>\n",
       "      <td>11676.465</td>\n",
       "      <td>44.268101</td>\n",
       "      <td>-37.051723</td>\n",
       "      <td>240.653567</td>\n",
       "      <td>...</td>\n",
       "      <td>-68.666033</td>\n",
       "      <td>73.881765</td>\n",
       "      <td>-0.099686</td>\n",
       "      <td>-6.551760</td>\n",
       "      <td>0.436173</td>\n",
       "      <td>0.005949</td>\n",
       "      <td>-1918.881968</td>\n",
       "      <td>-3.538117</td>\n",
       "      <td>18.485201</td>\n",
       "      <td>42355.286230</td>\n",
       "    </tr>\n",
       "    <tr>\n",
       "      <th>3363</th>\n",
       "      <td>35064.0</td>\n",
       "      <td>2024-01-01 00:00:00</td>\n",
       "      <td>42314.0</td>\n",
       "      <td>42603.2</td>\n",
       "      <td>42289.6</td>\n",
       "      <td>42503.5</td>\n",
       "      <td>8459.477</td>\n",
       "      <td>51.682422</td>\n",
       "      <td>-31.504059</td>\n",
       "      <td>245.864027</td>\n",
       "      <td>...</td>\n",
       "      <td>-38.502048</td>\n",
       "      <td>18.785588</td>\n",
       "      <td>-0.118506</td>\n",
       "      <td>-12.329252</td>\n",
       "      <td>0.437081</td>\n",
       "      <td>0.006052</td>\n",
       "      <td>232.046599</td>\n",
       "      <td>7.962819</td>\n",
       "      <td>17.468994</td>\n",
       "      <td>42323.717891</td>\n",
       "    </tr>\n",
       "  </tbody>\n",
       "</table>\n",
       "<p>3364 rows × 29 columns</p>\n",
       "</div>"
      ],
      "text/plain": [
       "      Unnamed: 0             datetime     open     high      low    close  \\\n",
       "0        31701.0  2023-08-13 21:00:00  29411.9  29415.0  29351.5  29360.0   \n",
       "1        31702.0  2023-08-13 22:00:00  29360.0  29367.3  29256.6  29307.0   \n",
       "2        31703.0  2023-08-13 23:00:00  29307.0  29328.3  29282.3  29293.3   \n",
       "3        31704.0  2023-08-14 00:00:00  29293.3  29319.2  29232.0  29260.8   \n",
       "4        31705.0  2023-08-14 01:00:00  29260.7  29293.0  29187.0  29256.4   \n",
       "...          ...                  ...      ...      ...      ...      ...   \n",
       "3359     35060.0  2023-12-31 20:00:00  42659.9  42724.5  42543.3  42599.1   \n",
       "3360     35061.0  2023-12-31 21:00:00  42599.2  42717.0  42558.2  42558.9   \n",
       "3361     35062.0  2023-12-31 22:00:00  42559.0  42629.5  42111.9  42294.8   \n",
       "3362     35063.0  2023-12-31 23:00:00  42294.8  42380.1  42083.1  42314.0   \n",
       "3363     35064.0  2024-01-01 00:00:00  42314.0  42603.2  42289.6  42503.5   \n",
       "\n",
       "         volume     RSI_14  MACD_diff      ATR_14  ...  Williams_%R_14  \\\n",
       "0      4436.755  42.712311   2.157654   33.349406  ...      -70.163488   \n",
       "1     13132.403  34.685640  -3.108060   38.874448  ...      -75.581395   \n",
       "2      4427.205  32.961326  -7.045012   39.383416  ...      -82.218992   \n",
       "3      7929.206  29.246882 -11.126455   42.798887  ...      -87.532468   \n",
       "4     11149.943  28.774118 -13.265871   47.313252  ...      -74.855072   \n",
       "...         ...        ...        ...         ...  ...             ...   \n",
       "3359   4730.936  55.250041   6.105397  218.980878  ...      -52.837838   \n",
       "3360   3794.010  53.452662  -1.967177  214.682244  ...      -68.789474   \n",
       "3361  11952.346  43.451719 -24.605785  236.319226  ...      -78.202836   \n",
       "3362  11676.465  44.268101 -37.051723  240.653567  ...      -68.666033   \n",
       "3363   8459.477  51.682422 -31.504059  245.864027  ...      -38.502048   \n",
       "\n",
       "      Awesome_Oscillator_5_34  PPO_Diff_12_26  PVO_Diff_12_26  \\\n",
       "0                    3.474412        0.013686       12.513581   \n",
       "1                   -6.966765        0.003490       21.171693   \n",
       "2                  -23.388529       -0.004816       20.812606   \n",
       "3                  -51.509118       -0.018221       18.265609   \n",
       "4                  -82.106471       -0.025941       18.218316   \n",
       "...                       ...             ...             ...   \n",
       "3359               238.756765        0.110297        5.447024   \n",
       "3360               224.570882        0.033048      -13.301315   \n",
       "3361               167.812353       -0.053112       -8.804990   \n",
       "3362                73.881765       -0.099686       -6.551760   \n",
       "3363                18.785588       -0.118506      -12.329252   \n",
       "\n",
       "      Coefficient_of_Variance_30  Ulcer_Index_14     CMF_3_20  \\\n",
       "0                       0.092314        0.001857 -1099.049848   \n",
       "1                       0.103878        0.002112 -2390.926689   \n",
       "2                       0.120076        0.002398 -3796.431215   \n",
       "3                       0.143096        0.002787 -5340.915366   \n",
       "4                       0.163036        0.003122 -4388.783471   \n",
       "...                          ...             ...          ...   \n",
       "3359                    0.426422        0.004286   424.407203   \n",
       "3360                    0.428925        0.004508 -1498.075834   \n",
       "3361                    0.434054        0.005432 -3715.263365   \n",
       "3362                    0.436173        0.005949 -1918.881968   \n",
       "3363                    0.437081        0.006052   232.046599   \n",
       "\n",
       "      Ease_of_Movement     ADX_14   predictions  \n",
       "0            -0.546728  19.881411  29396.482725  \n",
       "1            -0.601026  21.381868  29285.993535  \n",
       "2            -0.069096  22.775150  29191.288516  \n",
       "3            -0.326620  24.693490  29159.720176  \n",
       "4            -0.338441  26.923584  29128.151836  \n",
       "...                ...        ...           ...  \n",
       "3359         -1.892074  18.219811  42639.401289  \n",
       "3360          0.154865  17.958618  42544.696270  \n",
       "3361        -11.558186  18.169950  42544.696270  \n",
       "3362         -3.538117  18.485201  42355.286230  \n",
       "3363          7.962819  17.468994  42323.717891  \n",
       "\n",
       "[3364 rows x 29 columns]"
      ]
     },
     "execution_count": 3,
     "metadata": {},
     "output_type": "execute_result"
    }
   ],
   "source": [
    "data"
   ]
  },
  {
   "cell_type": "code",
   "execution_count": 4,
   "id": "a3b8da34",
   "metadata": {
    "execution": {
     "iopub.execute_input": "2025-01-28T23:50:56.570337Z",
     "iopub.status.busy": "2025-01-28T23:50:56.569926Z",
     "iopub.status.idle": "2025-01-28T23:50:56.573926Z",
     "shell.execute_reply": "2025-01-28T23:50:56.572966Z"
    },
    "papermill": {
     "duration": 0.011247,
     "end_time": "2025-01-28T23:50:56.575598",
     "exception": false,
     "start_time": "2025-01-28T23:50:56.564351",
     "status": "completed"
    },
    "tags": []
   },
   "outputs": [],
   "source": [
    "test_data=data"
   ]
  },
  {
   "cell_type": "code",
   "execution_count": 5,
   "id": "d780e0b0",
   "metadata": {
    "execution": {
     "iopub.execute_input": "2025-01-28T23:50:56.586313Z",
     "iopub.status.busy": "2025-01-28T23:50:56.585946Z",
     "iopub.status.idle": "2025-01-28T23:51:16.683712Z",
     "shell.execute_reply": "2025-01-28T23:51:16.682580Z"
    },
    "papermill": {
     "duration": 20.105222,
     "end_time": "2025-01-28T23:51:16.685654",
     "exception": false,
     "start_time": "2025-01-28T23:50:56.580432",
     "status": "completed"
    },
    "tags": []
   },
   "outputs": [
    {
     "data": {
      "image/png": "[encoded data removed]",
      "text/plain": [
       "<Figure size 1200x600 with 1 Axes>"
      ]
     },
     "metadata": {},
     "output_type": "display_data"
    }
   ],
   "source": [
    "import matplotlib.pyplot as plt\n",
    "\n",
    "plt.figure(figsize=(12, 6))\n",
    "plt.plot(test_data['datetime'],test_data['close'], label=\"Actual\")\n",
    "plt.plot(test_data['datetime'], test_data['predictions'], label=\"Predicted\")\n",
    "plt.xlabel(\"Datetime\")\n",
    "plt.ylabel(\"Bitcoin Close Price\")\n",
    "plt.title(\"Actual vs Predicted Bitcoin Prices\")\n",
    "plt.legend()\n",
    "plt.show()"
   ]
  },
  {
   "cell_type": "code",
   "execution_count": 6,
   "id": "f34eaa66",
   "metadata": {
    "execution": {
     "iopub.execute_input": "2025-01-28T23:51:16.699938Z",
     "iopub.status.busy": "2025-01-28T23:51:16.699615Z",
     "iopub.status.idle": "2025-01-28T23:51:16.713638Z",
     "shell.execute_reply": "2025-01-28T23:51:16.712533Z"
    },
    "papermill": {
     "duration": 0.022997,
     "end_time": "2025-01-28T23:51:16.715331",
     "exception": false,
     "start_time": "2025-01-28T23:51:16.692334",
     "status": "completed"
    },
    "tags": []
   },
   "outputs": [
    {
     "name": "stdout",
     "output_type": "stream",
     "text": [
      "Win Ratio: 39.10%\n"
     ]
    },
    {
     "name": "stderr",
     "output_type": "stream",
     "text": [
      "/usr/local/lib/python3.10/dist-packages/pandas/core/arraylike.py:399: RuntimeWarning: invalid value encountered in sign\n",
      "  result = getattr(ufunc, method)(*inputs, **kwargs)\n"
     ]
    }
   ],
   "source": [
    "# Calculate the actual and predicted price changes\n",
    "test_data['actual_change'] = test_data['close'].diff()\n",
    "test_data['predicted_change'] = test_data['predictions'].diff()\n",
    "\n",
    "# Determine if the trade was won (same direction of change)\n",
    "test_data['won_trade'] = np.sign(test_data['actual_change']) == np.sign(test_data['predicted_change'])\n",
    "\n",
    "# Calculate the win ratio\n",
    "total_trades = test_data['won_trade'].count() - 1  # Exclude the first NaN row\n",
    "won_trades = test_data['won_trade'].sum()\n",
    "win_ratio = won_trades / total_trades if total_trades > 0 else 0\n",
    "\n",
    "print(f\"Win Ratio: {win_ratio:.2%}\")"
   ]
  },
  {
   "cell_type": "code",
   "execution_count": 7,
   "id": "cb7e708a",
   "metadata": {
    "execution": {
     "iopub.execute_input": "2025-01-28T23:51:16.729706Z",
     "iopub.status.busy": "2025-01-28T23:51:16.729376Z",
     "iopub.status.idle": "2025-01-28T23:51:16.738679Z",
     "shell.execute_reply": "2025-01-28T23:51:16.737188Z"
    },
    "papermill": {
     "duration": 0.018378,
     "end_time": "2025-01-28T23:51:16.740327",
     "exception": false,
     "start_time": "2025-01-28T23:51:16.721949",
     "status": "completed"
    },
    "tags": []
   },
   "outputs": [
    {
     "name": "stdout",
     "output_type": "stream",
     "text": [
      "Win Ratio: 51.50%\n"
     ]
    },
    {
     "name": "stderr",
     "output_type": "stream",
     "text": [
      "/usr/local/lib/python3.10/dist-packages/pandas/core/arraylike.py:399: RuntimeWarning: invalid value encountered in sign\n",
      "  result = getattr(ufunc, method)(*inputs, **kwargs)\n"
     ]
    }
   ],
   "source": [
    "# Calculate the actual price changes (standard difference)\n",
    "test_data['actual_change'] = test_data['close'].diff()\n",
    "\n",
    "# Calculate predicted change by subtracting the actual value of the previous row\n",
    "test_data['predicted_change'] = test_data['predictions'] - test_data['close'].shift()\n",
    "\n",
    "# Determine if the trade was won (same direction of change)\n",
    "test_data['won_trade'] = np.sign(test_data['actual_change']) == np.sign(test_data['predicted_change'])\n",
    "\n",
    "# Calculate the win ratio\n",
    "total_trades = test_data['won_trade'].count() - 1  # Exclude the first NaN row\n",
    "won_trades = test_data['won_trade'].sum()\n",
    "win_ratio = won_trades / total_trades if total_trades > 0 else 0\n",
    "\n",
    "print(f\"Win Ratio: {win_ratio:.2%}\")"
   ]
  },
  {
   "cell_type": "code",
   "execution_count": 8,
   "id": "9a1f9a8f",
   "metadata": {
    "execution": {
     "iopub.execute_input": "2025-01-28T23:51:16.754919Z",
     "iopub.status.busy": "2025-01-28T23:51:16.754586Z",
     "iopub.status.idle": "2025-01-28T23:51:17.699154Z",
     "shell.execute_reply": "2025-01-28T23:51:17.697892Z"
    },
    "papermill": {
     "duration": 0.953904,
     "end_time": "2025-01-28T23:51:17.701026",
     "exception": false,
     "start_time": "2025-01-28T23:51:16.747122",
     "status": "completed"
    },
    "tags": []
   },
   "outputs": [
    {
     "name": "stdout",
     "output_type": "stream",
     "text": [
      "Cloning into 'untrade-sdk'...\r\n",
      "remote: Enumerating objects: 118, done.\u001b[K\r\n",
      "remote: Counting objects: 100% (118/118), done.\u001b[K\r\n",
      "remote: Compressing objects: 100% (72/72), done.\u001b[K\r\n",
      "remote: Total 118 (delta 56), reused 95 (delta 36), pack-reused 0 (from 0)\u001b[K\r\n",
      "Receiving objects: 100% (118/118), 43.67 KiB | 4.85 MiB/s, done.\r\n",
      "Resolving deltas: 100% (56/56), done.\r\n"
     ]
    }
   ],
   "source": [
    "!git clone https://github.com/ztuntrade/untrade-sdk.git && cd untrade-sdk"
   ]
  },
  {
   "cell_type": "code",
   "execution_count": 9,
   "id": "ce5bf06c",
   "metadata": {
    "execution": {
     "iopub.execute_input": "2025-01-28T23:51:17.716751Z",
     "iopub.status.busy": "2025-01-28T23:51:17.716324Z",
     "iopub.status.idle": "2025-01-28T23:51:17.721455Z",
     "shell.execute_reply": "2025-01-28T23:51:17.720353Z"
    },
    "papermill": {
     "duration": 0.014788,
     "end_time": "2025-01-28T23:51:17.723079",
     "exception": false,
     "start_time": "2025-01-28T23:51:17.708291",
     "status": "completed"
    },
    "tags": []
   },
   "outputs": [],
   "source": [
    "import os\n",
    "os.chdir(\"untrade-sdk\")"
   ]
  },
  {
   "cell_type": "code",
   "execution_count": 10,
   "id": "88ae869a",
   "metadata": {
    "execution": {
     "iopub.execute_input": "2025-01-28T23:51:17.738217Z",
     "iopub.status.busy": "2025-01-28T23:51:17.737828Z",
     "iopub.status.idle": "2025-01-28T23:51:28.177737Z",
     "shell.execute_reply": "2025-01-28T23:51:28.176387Z"
    },
    "papermill": {
     "duration": 10.449741,
     "end_time": "2025-01-28T23:51:28.179830",
     "exception": false,
     "start_time": "2025-01-28T23:51:17.730089",
     "status": "completed"
    },
    "tags": []
   },
   "outputs": [
    {
     "name": "stdout",
     "output_type": "stream",
     "text": [
      "Processing /kaggle/working/untrade-sdk\r\n",
      "  Installing build dependencies ... \u001b[?25l\u001b[?25hdone\r\n",
      "  Getting requirements to build wheel ... \u001b[?25l\u001b[?25hdone\r\n",
      "  Preparing metadata (pyproject.toml) ... \u001b[?25l\u001b[?25hdone\r\n",
      "Building wheels for collected packages: untrade\r\n",
      "  Building wheel for untrade (pyproject.toml) ... \u001b[?25l\u001b[?25hdone\r\n",
      "  Created wheel for untrade: filename=untrade-0.1.0-py3-none-any.whl size=5082 sha256=31197b3357f64b30ee36b40c8baf39aa49051fa7e417fb9f79f49806376b6a57\r\n",
      "  Stored in directory: /root/.cache/pip/wheels/78/38/1b/d90e91a930cde98f08002408a18e115c94b1133e5955008800\r\n",
      "Successfully built untrade\r\n",
      "Installing collected packages: untrade\r\n",
      "Successfully installed untrade-0.1.0\r\n"
     ]
    }
   ],
   "source": [
    "!pip install ."
   ]
  },
  {
   "cell_type": "code",
   "execution_count": 11,
   "id": "cf3d6b69",
   "metadata": {
    "execution": {
     "iopub.execute_input": "2025-01-28T23:51:28.196235Z",
     "iopub.status.busy": "2025-01-28T23:51:28.195806Z",
     "iopub.status.idle": "2025-01-28T23:51:39.300399Z",
     "shell.execute_reply": "2025-01-28T23:51:39.298957Z"
    },
    "papermill": {
     "duration": 11.115651,
     "end_time": "2025-01-28T23:51:39.303071",
     "exception": false,
     "start_time": "2025-01-28T23:51:28.187420",
     "status": "completed"
    },
    "tags": []
   },
   "outputs": [
    {
     "name": "stdout",
     "output_type": "stream",
     "text": [
      "Collecting pandas_ta\r\n",
      "  Downloading pandas_ta-0.3.14b.tar.gz (115 kB)\r\n",
      "\u001b[2K     \u001b[90m━━━━━━━━━━━━━━━━━━━━━━━━━━━━━━━━━━━━━━━━\u001b[0m \u001b[32m115.1/115.1 kB\u001b[0m \u001b[31m3.8 MB/s\u001b[0m eta \u001b[36m0:00:00\u001b[0m\r\n",
      "\u001b[?25h  Preparing metadata (setup.py) ... \u001b[?25l\u001b[?25hdone\r\n",
      "Requirement already satisfied: pandas in /usr/local/lib/python3.10/dist-packages (from pandas_ta) (2.2.2)\r\n",
      "Requirement already satisfied: numpy>=1.22.4 in /usr/local/lib/python3.10/dist-packages (from pandas->pandas_ta) (1.26.4)\r\n",
      "Requirement already satisfied: python-dateutil>=2.8.2 in /usr/local/lib/python3.10/dist-packages (from pandas->pandas_ta) (2.8.2)\r\n",
      "Requirement already satisfied: pytz>=2020.1 in /usr/local/lib/python3.10/dist-packages (from pandas->pandas_ta) (2024.2)\r\n",
      "Requirement already satisfied: tzdata>=2022.7 in /usr/local/lib/python3.10/dist-packages (from pandas->pandas_ta) (2024.2)\r\n",
      "Requirement already satisfied: mkl_fft in /usr/local/lib/python3.10/dist-packages (from numpy>=1.22.4->pandas->pandas_ta) (1.3.8)\r\n",
      "Requirement already satisfied: mkl_random in /usr/local/lib/python3.10/dist-packages (from numpy>=1.22.4->pandas->pandas_ta) (1.2.4)\r\n",
      "Requirement already satisfied: mkl_umath in /usr/local/lib/python3.10/dist-packages (from numpy>=1.22.4->pandas->pandas_ta) (0.1.1)\r\n",
      "Requirement already satisfied: mkl in /usr/local/lib/python3.10/dist-packages (from numpy>=1.22.4->pandas->pandas_ta) (2025.0.1)\r\n",
      "Requirement already satisfied: tbb4py in /usr/local/lib/python3.10/dist-packages (from numpy>=1.22.4->pandas->pandas_ta) (2022.0.0)\r\n",
      "Requirement already satisfied: mkl-service in /usr/local/lib/python3.10/dist-packages (from numpy>=1.22.4->pandas->pandas_ta) (2.4.1)\r\n",
      "Requirement already satisfied: six>=1.5 in /usr/local/lib/python3.10/dist-packages (from python-dateutil>=2.8.2->pandas->pandas_ta) (1.17.0)\r\n",
      "Requirement already satisfied: intel-openmp>=2024 in /usr/local/lib/python3.10/dist-packages (from mkl->numpy>=1.22.4->pandas->pandas_ta) (2024.2.0)\r\n",
      "Requirement already satisfied: tbb==2022.* in /usr/local/lib/python3.10/dist-packages (from mkl->numpy>=1.22.4->pandas->pandas_ta) (2022.0.0)\r\n",
      "Requirement already satisfied: tcmlib==1.* in /usr/local/lib/python3.10/dist-packages (from tbb==2022.*->mkl->numpy>=1.22.4->pandas->pandas_ta) (1.2.0)\r\n",
      "Requirement already satisfied: intel-cmplr-lib-rt in /usr/local/lib/python3.10/dist-packages (from mkl_umath->numpy>=1.22.4->pandas->pandas_ta) (2024.2.0)\r\n",
      "Requirement already satisfied: intel-cmplr-lib-ur==2024.2.0 in /usr/local/lib/python3.10/dist-packages (from intel-openmp>=2024->mkl->numpy>=1.22.4->pandas->pandas_ta) (2024.2.0)\r\n",
      "Building wheels for collected packages: pandas_ta\r\n",
      "  Building wheel for pandas_ta (setup.py) ... \u001b[?25l\u001b[?25hdone\r\n",
      "  Created wheel for pandas_ta: filename=pandas_ta-0.3.14b0-py3-none-any.whl size=218909 sha256=6cba7208954bb9f5d85ae1b87dd3a28dc4606ddbe1a937e8df4a59a696e66fbe\r\n",
      "  Stored in directory: /root/.cache/pip/wheels/69/00/ac/f7fa862c34b0e2ef320175100c233377b4c558944f12474cf0\r\n",
      "Successfully built pandas_ta\r\n",
      "Installing collected packages: pandas_ta\r\n",
      "Successfully installed pandas_ta-0.3.14b0\r\n",
      "Requirement already satisfied: tqdm in /usr/local/lib/python3.10/dist-packages (4.67.1)\r\n"
     ]
    }
   ],
   "source": [
    "!pip install pandas_ta\n",
    "!pip install tqdm"
   ]
  },
  {
   "cell_type": "code",
   "execution_count": 12,
   "id": "a8e035d1",
   "metadata": {
    "execution": {
     "iopub.execute_input": "2025-01-28T23:51:39.320563Z",
     "iopub.status.busy": "2025-01-28T23:51:39.320193Z",
     "iopub.status.idle": "2025-01-28T23:51:39.636704Z",
     "shell.execute_reply": "2025-01-28T23:51:39.635583Z"
    },
    "papermill": {
     "duration": 0.327289,
     "end_time": "2025-01-28T23:51:39.638603",
     "exception": false,
     "start_time": "2025-01-28T23:51:39.311314",
     "status": "completed"
    },
    "tags": []
   },
   "outputs": [],
   "source": [
    "import pandas_ta as ta\n",
    "import time \n",
    "from tqdm import tqdm"
   ]
  },
  {
   "cell_type": "code",
   "execution_count": 13,
   "id": "c82416a6",
   "metadata": {
    "execution": {
     "iopub.execute_input": "2025-01-28T23:51:39.656197Z",
     "iopub.status.busy": "2025-01-28T23:51:39.655802Z",
     "iopub.status.idle": "2025-01-28T23:51:39.661454Z",
     "shell.execute_reply": "2025-01-28T23:51:39.660075Z"
    },
    "papermill": {
     "duration": 0.016366,
     "end_time": "2025-01-28T23:51:39.663177",
     "exception": false,
     "start_time": "2025-01-28T23:51:39.646811",
     "status": "completed"
    },
    "tags": []
   },
   "outputs": [
    {
     "name": "stdout",
     "output_type": "stream",
     "text": [
      "Help on function donchian in module pandas_ta.volatility.donchian:\n",
      "\n",
      "donchian(high, low, lower_length=None, upper_length=None, offset=None, **kwargs)\n",
      "    Donchian Channels (DC)\n",
      "    \n",
      "    Donchian Channels are used to measure volatility, similar to\n",
      "    Bollinger Bands and Keltner Channels.\n",
      "    \n",
      "    Sources:\n",
      "        https://www.tradingview.com/wiki/Donchian_Channels_(DC)\n",
      "    \n",
      "    Calculation:\n",
      "        Default Inputs:\n",
      "            lower_length=upper_length=20\n",
      "        LOWER = low.rolling(lower_length).min()\n",
      "        UPPER = high.rolling(upper_length).max()\n",
      "        MID = 0.5 * (LOWER + UPPER)\n",
      "    \n",
      "    Args:\n",
      "        high (pd.Series): Series of 'high's\n",
      "        low (pd.Series): Series of 'low's\n",
      "        lower_length (int): The short period. Default: 20\n",
      "        upper_length (int): The short period. Default: 20\n",
      "        offset (int): How many periods to offset the result. Default: 0\n",
      "    \n",
      "    Kwargs:\n",
      "        fillna (value, optional): pd.DataFrame.fillna(value)\n",
      "        fill_method (value, optional): Type of fill method\n",
      "    \n",
      "    Returns:\n",
      "        pd.DataFrame: lower, mid, upper columns.\n",
      "\n"
     ]
    }
   ],
   "source": [
    "help(ta.donchian)"
   ]
  },
  {
   "cell_type": "code",
   "execution_count": 14,
   "id": "962f9e3f",
   "metadata": {
    "execution": {
     "iopub.execute_input": "2025-01-28T23:51:39.681096Z",
     "iopub.status.busy": "2025-01-28T23:51:39.680720Z",
     "iopub.status.idle": "2025-01-28T23:51:39.696938Z",
     "shell.execute_reply": "2025-01-28T23:51:39.696097Z"
    },
    "papermill": {
     "duration": 0.027093,
     "end_time": "2025-01-28T23:51:39.698513",
     "exception": false,
     "start_time": "2025-01-28T23:51:39.671420",
     "status": "completed"
    },
    "tags": []
   },
   "outputs": [],
   "source": [
    "def strat(df):\n",
    "            start_time = time.time()\n",
    "\n",
    "            df['predicted_MA_Short']=df['predictions'].rolling(window=12).mean()\n",
    "            df['predicted_MA_Long']=df['predictions'].rolling(window=26).mean()\n",
    "\n",
    "            df['RSI']= ta.rsi(df['predictions'], length=14)\n",
    "\n",
    "\n",
    "            df['Donchian_Lower'] = df['low'].rolling(window=20).min()  # Lower Band\n",
    "            df['Donchian_Upper'] = df['high'].rolling(window=20).max()  # Upper Band\n",
    "\n",
    "    \n",
    "            bollinger = ta.bbands(df['close'], length=20, std=2)\n",
    "            df['Bollinger_Lower'] = bollinger['BBL_20_2.0']  # Lower Band\n",
    "            df['Bollinger_Upper'] = bollinger['BBU_20_2.0']  # Upper Band\n",
    "\n",
    "            stop_loss_multiplier=7\n",
    "    \n",
    "                # Initialize signals\n",
    "            df['signals'] = 0\n",
    "            in_trade_long = False\n",
    "            in_trade_short = False\n",
    "            entry_price_long = 0\n",
    "            entry_price_short = 0\n",
    "            \n",
    "            #signal generation \n",
    "            for i in range(len(df)):\n",
    "                if in_trade_long:\n",
    "                    # Calculate trailing stop-loss based on ATR\n",
    "                    atr_value = df.loc[i,'ATR_14']\n",
    "                    if(df.loc[i,'close']>df.loc[i-1,'close']):\n",
    "                        stop_loss_price = max(df.loc[i,'close'] - (atr_value * stop_loss_multiplier),stop_loss_price)\n",
    "                        \n",
    "                    #exit long trade if stoploss is attained\n",
    "                    if (df.loc[i,'close'] <= stop_loss_price or df.loc[i,'RSI_14']>=90):\n",
    "                            df.at[i, 'signals'] = -1  # Exit long position\n",
    "                            in_trade_long = False  # Reset the trade status\n",
    "                            entry_price_long = 0  # Reset entry price\n",
    "            \n",
    "                elif in_trade_short:\n",
    "                    # Calculate trailing stop-loss based on ATR\n",
    "                    atr_value = df.loc[i,'ATR_14']\n",
    "                    if(df.loc[i,'close']<df.loc[i-1,'close']):\n",
    "                        stop_loss_price = min(df.loc[i,'close'] + (atr_value * stop_loss_multiplier),stop_loss_price)\n",
    "    \n",
    "                    #exit short trade if stoploss is attained\n",
    "                    if (df.loc[i,'close'] >= stop_loss_price or df.loc[i,'RSI_14']<=10):\n",
    "                            df.at[i, 'signals'] = -2  # Exit short position\n",
    "                            in_trade_short = False  # Reset the trade status\n",
    "                            entry_price_short = 0  # Reset entry price\n",
    "    \n",
    "                #entry condition for long trade based on XGBoost prediction combined MA crossover confirmation\n",
    "                elif ( df.loc[i,'close']<df.loc[i,'Donchian_Upper'] and df.loc[i,'predicted_MA_Short']>df.loc[i,'predicted_MA_Long']):\n",
    "                \n",
    "                    df.at[i, 'signals'] = 1  # Long signal\n",
    "                    entry_price_long = df.loc[i,'close']\n",
    "                    in_trade_long = True\n",
    "                    atr_value = df.loc[i,'ATR_14']\n",
    "                    stop_loss_price = entry_price_long - (atr_value * stop_loss_multiplier)\n",
    "                    \n",
    "                #entry condition for short trade based on XGBoost prediction combined MA crossover confirmation \n",
    "                elif (df.loc[i,'close']>df.loc[i,'Bollinger_Lower'] and  df.loc[i,'predicted_MA_Short']<df.loc[i,'predicted_MA_Long']):\n",
    "                    \n",
    "                      df.at[i, 'signals'] = 2  # Short signal\n",
    "                      entry_price_short = df.loc[i,'close']\n",
    "                      in_trade_short = True\n",
    "                      atr_value = df.loc[i,'ATR_14']\n",
    "                      stop_loss_price = entry_price_short + (atr_value * stop_loss_multiplier)     \n",
    "    \n",
    "            df_1 = df.copy()\n",
    "            long_open = False\n",
    "            short_open = False\n",
    "          \n",
    "            #signal processing\n",
    "            for index, row in df_1.iterrows():\n",
    "                signal = row['signals']\n",
    "    \n",
    "                if signal == 2 and short_open:\n",
    "                    df_1.at[index, 'signals'] = 0\n",
    "                elif signal == 1 and long_open:\n",
    "                    df_1.at[index, 'signals'] = 0\n",
    "                elif signal == 1 and not long_open:\n",
    "                    long_open = True\n",
    "                elif signal == 2 and not short_open:\n",
    "                    short_open = True\n",
    "    \n",
    "                elif signal == -1:\n",
    "                    if long_open:\n",
    "                        long_open = False\n",
    "                    else:\n",
    "                        df_1.at[index, 'signals'] = 0\n",
    "                elif signal == -2:\n",
    "                    if short_open:\n",
    "                        short_open = False\n",
    "                    else:\n",
    "                        df_1.at[index, 'signals'] = 0\n",
    "    \n",
    "            df_1['signal'] = df_1['signals']\n",
    "            \n",
    "\n",
    "            for i in tqdm(range(len(df_1))):\n",
    "                if df_1.loc[i,'signals'] == 2 :\n",
    "                    df_1.loc[i,'signals'] = -1\n",
    "                elif df_1.loc[i,'signals'] == -2 :\n",
    "                    df_1.loc[i,'signals'] = 1\n",
    "\n",
    "            \n",
    "                \n",
    "            df_1= df_1[df_1[\"signals\"]!=0]\n",
    "            \n",
    "            df_1 = df_1.rename(columns={'timestamp': 'datetime'})\n",
    "            df_1 = df_1.rename(columns={'signal': 'trade_type'})\n",
    "\n",
    "            \n",
    "            end_time = time.time()\n",
    "            time_taken = end_time - start_time\n",
    "            print(f\"Time taken to generate signals : {time_taken:.2f}\")\n",
    "            \n",
    "            return df_1"
   ]
  },
  {
   "cell_type": "markdown",
   "id": "699b11cc",
   "metadata": {
    "papermill": {
     "duration": 0.007959,
     "end_time": "2025-01-28T23:51:39.714712",
     "exception": false,
     "start_time": "2025-01-28T23:51:39.706753",
     "status": "completed"
    },
    "tags": []
   },
   "source": [
    "**BACKTESTING USING SDK**"
   ]
  },
  {
   "cell_type": "code",
   "execution_count": 15,
   "id": "072c3fab",
   "metadata": {
    "execution": {
     "iopub.execute_input": "2025-01-28T23:51:39.732363Z",
     "iopub.status.busy": "2025-01-28T23:51:39.731953Z",
     "iopub.status.idle": "2025-01-28T23:51:39.873526Z",
     "shell.execute_reply": "2025-01-28T23:51:39.872573Z"
    },
    "papermill": {
     "duration": 0.152461,
     "end_time": "2025-01-28T23:51:39.875483",
     "exception": false,
     "start_time": "2025-01-28T23:51:39.723022",
     "status": "completed"
    },
    "tags": []
   },
   "outputs": [],
   "source": [
    "from untrade.client import Client\n",
    "\n",
    "# Initialize the client\n",
    "client = Client()"
   ]
  },
  {
   "cell_type": "code",
   "execution_count": 16,
   "id": "c948031e",
   "metadata": {
    "execution": {
     "iopub.execute_input": "2025-01-28T23:51:39.893302Z",
     "iopub.status.busy": "2025-01-28T23:51:39.892865Z",
     "iopub.status.idle": "2025-01-28T23:51:39.897469Z",
     "shell.execute_reply": "2025-01-28T23:51:39.896599Z"
    },
    "papermill": {
     "duration": 0.014986,
     "end_time": "2025-01-28T23:51:39.898930",
     "exception": false,
     "start_time": "2025-01-28T23:51:39.883944",
     "status": "completed"
    },
    "tags": []
   },
   "outputs": [],
   "source": [
    "def perform_backtest(csv_file_path):\n",
    "    client = Client()\n",
    "\n",
    "    # Perform backtest using the provided CSV file path\n",
    "    result = client.backtest(\n",
    "        jupyter_id=\"team53_zelta_hpps\", \n",
    "        file_path=csv_file_path,\n",
    "        leverage=1,\n",
    "    )\n",
    "    return result"
   ]
  },
  {
   "cell_type": "code",
   "execution_count": 17,
   "id": "2432b50e",
   "metadata": {
    "execution": {
     "iopub.execute_input": "2025-01-28T23:51:39.916580Z",
     "iopub.status.busy": "2025-01-28T23:51:39.916222Z",
     "iopub.status.idle": "2025-01-28T23:51:39.920952Z",
     "shell.execute_reply": "2025-01-28T23:51:39.920165Z"
    },
    "papermill": {
     "duration": 0.015186,
     "end_time": "2025-01-28T23:51:39.922527",
     "exception": false,
     "start_time": "2025-01-28T23:51:39.907341",
     "status": "completed"
    },
    "tags": []
   },
   "outputs": [],
   "source": [
    "def main():\n",
    "    df=pd.read_csv(\"/kaggle/input/test-results/test_data (1).csv\")\n",
    "    # processed_data = process_data(df)\n",
    "    result_data = strat(df)\n",
    "    csv_file_path = \"results.csv\"\n",
    "    result_data.to_csv('/kaggle/working/signal_file.csv', index=False)\n",
    "    result_data.to_csv(csv_file_path, index=False)\n",
    "    \n",
    "    backtest_result = perform_backtest(csv_file_path)\n",
    "    for value in backtest_result:\n",
    "       print(value)"
   ]
  },
  {
   "cell_type": "code",
   "execution_count": 18,
   "id": "9abbecc9",
   "metadata": {
    "execution": {
     "iopub.execute_input": "2025-01-28T23:51:39.940064Z",
     "iopub.status.busy": "2025-01-28T23:51:39.939677Z",
     "iopub.status.idle": "2025-01-28T23:51:41.446457Z",
     "shell.execute_reply": "2025-01-28T23:51:41.445096Z"
    },
    "papermill": {
     "duration": 1.517303,
     "end_time": "2025-01-28T23:51:41.448206",
     "exception": false,
     "start_time": "2025-01-28T23:51:39.930903",
     "status": "completed"
    },
    "tags": []
   },
   "outputs": [
    {
     "name": "stderr",
     "output_type": "stream",
     "text": [
      "/usr/local/lib/python3.10/dist-packages/pandas/core/computation/expressions.py:73: RuntimeWarning: invalid value encountered in less\n",
      "  return op(a, b)\n",
      "/usr/local/lib/python3.10/dist-packages/pandas/core/computation/expressions.py:73: RuntimeWarning: invalid value encountered in greater\n",
      "  return op(a, b)\n",
      "100%|██████████| 3364/3364 [00:00<00:00, 51288.94it/s]\n"
     ]
    },
    {
     "name": "stdout",
     "output_type": "stream",
     "text": [
      "Time taken to generate signals : 0.42\n",
      "data: {\n",
      "  \"jupyter_id\": \"team53-5fzelta-5fhpps\",\n",
      "  \"result_type\": \"Main\",\n",
      "  \"message\": \"Backtest completed\",\n",
      "  \"result\": {\n",
      "    \"static_statistics\": {\n",
      "      \"From\": \"2023-08-14 22:00:00\",\n",
      "      \"Total Trades\": 18,\n",
      "      \"Leverage Applied\": 1.0,\n",
      "      \"Winning Trades\": 7,\n",
      "      \"Losing Trades\": 11,\n",
      "      \"No. of Long Trades\": 9,\n",
      "      \"No. of Short Trades\": 9,\n",
      "      \"Benchmark Return(%)\": 45.442713,\n",
      "      \"Benchmark Return(on $1000)\": 454.427132,\n",
      "      \"Win Rate\": 38.888889,\n",
      "      \"Winning Streak\": 3,\n",
      "      \"Losing Streak\": 4,\n",
      "      \"Gross Profit\": 254.986834,\n",
      "      \"Net Profit\": 227.986834,\n",
      "      \"Average Profit\": 12.665935,\n",
      "      \"Maximum Drawdown(%)\": 10.980886,\n",
      "      \"Average Drawdown(%)\": 4.791479,\n",
      "      \"Largest Win\": 329.974283,\n",
      "      \"Average Win\": 77.805916,\n",
      "      \"Largest Loss\": -63.134067,\n",
      "      \"Average Loss\": -28.78678,\n",
      "      \"Maximum Holding Time\": \"29 days 18:0:0\",\n",
      "      \"Average Holding Time\": \"7 days 7:53:20\",\n",
      "      \"Maximum Adverse Excursion\": 6.284426,\n",
      "      \"Average Adverse Excursion\": -0.477614,\n",
      "      \"Sharpe Ratio\": 3.127357,\n",
      "      \"Sortino Ratio\": 10.660754,\n",
      "      \"To\": \"2023-12-26 07:00:00\"\n",
      "    },\n",
      "    \"compound_statistics\": {\n",
      "      \"flag\": \"Trades Executed: 18\",\n",
      "      \"Initial Balance\": 1000.0,\n",
      "      \"Leverage Applied\": 1.0,\n",
      "      \"Number of Trades\": 18,\n",
      "      \"Profit Percentage\": 18.412969,\n",
      "      \"Maximum Drawdown\": 13.816456,\n",
      "      \"Average Drawdown\": 5.564222,\n",
      "      \"Time to Recovery(TTR)\": \"63.208333 days\",\n",
      "      \"Average TTR\": \"32.125000 days\",\n",
      "      \"Maximum PNL\": 324.515052,\n",
      "      \"Minimum PNL\": -75.964147,\n",
      "      \"Max Portfolio Balance\": 1307.970642,\n",
      "      \"Minimumm Portfolio Balance\": 960.981791,\n",
      "      \"Final Balance\": 1184.12969,\n",
      "      \"Total Fee\": 29.123385\n",
      "    }\n",
      "  }\n",
      "}\n",
      "\n",
      "\n"
     ]
    }
   ],
   "source": [
    "if __name__ == \"__main__\":\n",
    "     main()  "
   ]
  },
  {
   "cell_type": "code",
   "execution_count": null,
   "id": "93d80a9a",
   "metadata": {
    "papermill": {
     "duration": 0.00899,
     "end_time": "2025-01-28T23:51:41.466218",
     "exception": false,
     "start_time": "2025-01-28T23:51:41.457228",
     "status": "completed"
    },
    "tags": []
   },
   "outputs": [],
   "source": []
  }
 ],
 "metadata": {
  "kaggle": {
   "accelerator": "none",
   "dataSources": [
    {
     "datasetId": 6563899,
     "sourceId": 10603811,
     "sourceType": "datasetVersion"
    },
    {
     "datasetId": 6564549,
     "sourceId": 10604752,
     "sourceType": "datasetVersion"
    }
   ],
   "dockerImageVersionId": 30839,
   "isGpuEnabled": false,
   "isInternetEnabled": true,
   "language": "python",
   "sourceType": "notebook"
  },
  "kernelspec": {
   "display_name": "Python 3",
   "language": "python",
   "name": "python3"
  },
  "language_info": {
   "codemirror_mode": {
    "name": "ipython",
    "version": 3
   },
   "file_extension": ".py",
   "mimetype": "text/x-python",
   "name": "python",
   "nbconvert_exporter": "python",
   "pygments_lexer": "ipython3",
   "version": "3.10.12"
  },
  "papermill": {
   "default_parameters": {},
   "duration": 49.65438,
   "end_time": "2025-01-28T23:51:42.396613",
   "environment_variables": {},
   "exception": null,
   "input_path": "__notebook__.ipynb",
   "output_path": "__notebook__.ipynb",
   "parameters": {},
   "start_time": "2025-01-28T23:50:52.742233",
   "version": "2.6.0"
  }
 },
 "nbformat": 4,
 "nbformat_minor": 5
}
